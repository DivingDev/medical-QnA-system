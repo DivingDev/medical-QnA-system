{
  "nbformat": 4,
  "nbformat_minor": 0,
  "metadata": {
    "colab": {
      "provenance": []
    },
    "kernelspec": {
      "name": "python3",
      "display_name": "Python 3"
    },
    "language_info": {
      "name": "python"
    }
  },
  "cells": [
    {
      "cell_type": "code",
      "execution_count": null,
      "metadata": {
        "id": "FJdbGVbWto14"
      },
      "outputs": [],
      "source": [
        "import pandas as pd\n",
        "import numpy as np"
      ]
    },
    {
      "cell_type": "code",
      "source": [
        "df = pd.read_csv(\"/content/drive/MyDrive/Supportiv/preprocessed.csv\")\n",
        "df.head()"
      ],
      "metadata": {
        "colab": {
          "base_uri": "https://localhost:8080/",
          "height": 206
        },
        "id": "g7YEk100tztz",
        "outputId": "3c4f51f0-fe83-4ae5-80ab-f96011c96eb1"
      },
      "execution_count": null,
      "outputs": [
        {
          "output_type": "execute_result",
          "data": {
            "text/plain": [
              "                         question  \\\n",
              "0        What is (are) Glaucoma ?   \n",
              "1        What is (are) Glaucoma ?   \n",
              "2        What is (are) Glaucoma ?   \n",
              "3  Who is at risk for Glaucoma? ?   \n",
              "4       How to prevent Glaucoma ?   \n",
              "\n",
              "                                              answer  \\\n",
              "0  Glaucoma is a group of diseases that can damag...   \n",
              "1  The optic nerve is a bundle of more than 1 mil...   \n",
              "2  Open-angle glaucoma is the most common form of...   \n",
              "3  Anyone can develop glaucoma. Some people are a...   \n",
              "4  At this time, we do not know how to prevent gl...   \n",
              "\n",
              "         preprocessed_question  \\\n",
              "0          what be be glaucoma   \n",
              "1          what be be glaucoma   \n",
              "2          what be be glaucoma   \n",
              "3  who be at risk for glaucoma   \n",
              "4      how to prevent glaucoma   \n",
              "\n",
              "                                 preprocessed_answer  \n",
              "0  glaucoma be a group of disease that can damage...  \n",
              "1  the optic nerve be a bundle of more than milli...  \n",
              "2  open angle glaucoma be the most common form of...  \n",
              "3  anyone can develop glaucoma some people be at ...  \n",
              "4  at this time we do not know how to prevent gla...  "
            ],
            "text/html": [
              "\n",
              "  <div id=\"df-aeaebd43-cf50-438e-be00-b2bc893f3d12\" class=\"colab-df-container\">\n",
              "    <div>\n",
              "<style scoped>\n",
              "    .dataframe tbody tr th:only-of-type {\n",
              "        vertical-align: middle;\n",
              "    }\n",
              "\n",
              "    .dataframe tbody tr th {\n",
              "        vertical-align: top;\n",
              "    }\n",
              "\n",
              "    .dataframe thead th {\n",
              "        text-align: right;\n",
              "    }\n",
              "</style>\n",
              "<table border=\"1\" class=\"dataframe\">\n",
              "  <thead>\n",
              "    <tr style=\"text-align: right;\">\n",
              "      <th></th>\n",
              "      <th>question</th>\n",
              "      <th>answer</th>\n",
              "      <th>preprocessed_question</th>\n",
              "      <th>preprocessed_answer</th>\n",
              "    </tr>\n",
              "  </thead>\n",
              "  <tbody>\n",
              "    <tr>\n",
              "      <th>0</th>\n",
              "      <td>What is (are) Glaucoma ?</td>\n",
              "      <td>Glaucoma is a group of diseases that can damag...</td>\n",
              "      <td>what be be glaucoma</td>\n",
              "      <td>glaucoma be a group of disease that can damage...</td>\n",
              "    </tr>\n",
              "    <tr>\n",
              "      <th>1</th>\n",
              "      <td>What is (are) Glaucoma ?</td>\n",
              "      <td>The optic nerve is a bundle of more than 1 mil...</td>\n",
              "      <td>what be be glaucoma</td>\n",
              "      <td>the optic nerve be a bundle of more than milli...</td>\n",
              "    </tr>\n",
              "    <tr>\n",
              "      <th>2</th>\n",
              "      <td>What is (are) Glaucoma ?</td>\n",
              "      <td>Open-angle glaucoma is the most common form of...</td>\n",
              "      <td>what be be glaucoma</td>\n",
              "      <td>open angle glaucoma be the most common form of...</td>\n",
              "    </tr>\n",
              "    <tr>\n",
              "      <th>3</th>\n",
              "      <td>Who is at risk for Glaucoma? ?</td>\n",
              "      <td>Anyone can develop glaucoma. Some people are a...</td>\n",
              "      <td>who be at risk for glaucoma</td>\n",
              "      <td>anyone can develop glaucoma some people be at ...</td>\n",
              "    </tr>\n",
              "    <tr>\n",
              "      <th>4</th>\n",
              "      <td>How to prevent Glaucoma ?</td>\n",
              "      <td>At this time, we do not know how to prevent gl...</td>\n",
              "      <td>how to prevent glaucoma</td>\n",
              "      <td>at this time we do not know how to prevent gla...</td>\n",
              "    </tr>\n",
              "  </tbody>\n",
              "</table>\n",
              "</div>\n",
              "    <div class=\"colab-df-buttons\">\n",
              "\n",
              "  <div class=\"colab-df-container\">\n",
              "    <button class=\"colab-df-convert\" onclick=\"convertToInteractive('df-aeaebd43-cf50-438e-be00-b2bc893f3d12')\"\n",
              "            title=\"Convert this dataframe to an interactive table.\"\n",
              "            style=\"display:none;\">\n",
              "\n",
              "  <svg xmlns=\"http://www.w3.org/2000/svg\" height=\"24px\" viewBox=\"0 -960 960 960\">\n",
              "    <path d=\"M120-120v-720h720v720H120Zm60-500h600v-160H180v160Zm220 220h160v-160H400v160Zm0 220h160v-160H400v160ZM180-400h160v-160H180v160Zm440 0h160v-160H620v160ZM180-180h160v-160H180v160Zm440 0h160v-160H620v160Z\"/>\n",
              "  </svg>\n",
              "    </button>\n",
              "\n",
              "  <style>\n",
              "    .colab-df-container {\n",
              "      display:flex;\n",
              "      gap: 12px;\n",
              "    }\n",
              "\n",
              "    .colab-df-convert {\n",
              "      background-color: #E8F0FE;\n",
              "      border: none;\n",
              "      border-radius: 50%;\n",
              "      cursor: pointer;\n",
              "      display: none;\n",
              "      fill: #1967D2;\n",
              "      height: 32px;\n",
              "      padding: 0 0 0 0;\n",
              "      width: 32px;\n",
              "    }\n",
              "\n",
              "    .colab-df-convert:hover {\n",
              "      background-color: #E2EBFA;\n",
              "      box-shadow: 0px 1px 2px rgba(60, 64, 67, 0.3), 0px 1px 3px 1px rgba(60, 64, 67, 0.15);\n",
              "      fill: #174EA6;\n",
              "    }\n",
              "\n",
              "    .colab-df-buttons div {\n",
              "      margin-bottom: 4px;\n",
              "    }\n",
              "\n",
              "    [theme=dark] .colab-df-convert {\n",
              "      background-color: #3B4455;\n",
              "      fill: #D2E3FC;\n",
              "    }\n",
              "\n",
              "    [theme=dark] .colab-df-convert:hover {\n",
              "      background-color: #434B5C;\n",
              "      box-shadow: 0px 1px 3px 1px rgba(0, 0, 0, 0.15);\n",
              "      filter: drop-shadow(0px 1px 2px rgba(0, 0, 0, 0.3));\n",
              "      fill: #FFFFFF;\n",
              "    }\n",
              "  </style>\n",
              "\n",
              "    <script>\n",
              "      const buttonEl =\n",
              "        document.querySelector('#df-aeaebd43-cf50-438e-be00-b2bc893f3d12 button.colab-df-convert');\n",
              "      buttonEl.style.display =\n",
              "        google.colab.kernel.accessAllowed ? 'block' : 'none';\n",
              "\n",
              "      async function convertToInteractive(key) {\n",
              "        const element = document.querySelector('#df-aeaebd43-cf50-438e-be00-b2bc893f3d12');\n",
              "        const dataTable =\n",
              "          await google.colab.kernel.invokeFunction('convertToInteractive',\n",
              "                                                    [key], {});\n",
              "        if (!dataTable) return;\n",
              "\n",
              "        const docLinkHtml = 'Like what you see? Visit the ' +\n",
              "          '<a target=\"_blank\" href=https://colab.research.google.com/notebooks/data_table.ipynb>data table notebook</a>'\n",
              "          + ' to learn more about interactive tables.';\n",
              "        element.innerHTML = '';\n",
              "        dataTable['output_type'] = 'display_data';\n",
              "        await google.colab.output.renderOutput(dataTable, element);\n",
              "        const docLink = document.createElement('div');\n",
              "        docLink.innerHTML = docLinkHtml;\n",
              "        element.appendChild(docLink);\n",
              "      }\n",
              "    </script>\n",
              "  </div>\n",
              "\n",
              "\n",
              "<div id=\"df-bbf162fa-ec8b-47ad-98f8-ed9c9ffca89d\">\n",
              "  <button class=\"colab-df-quickchart\" onclick=\"quickchart('df-bbf162fa-ec8b-47ad-98f8-ed9c9ffca89d')\"\n",
              "            title=\"Suggest charts\"\n",
              "            style=\"display:none;\">\n",
              "\n",
              "<svg xmlns=\"http://www.w3.org/2000/svg\" height=\"24px\"viewBox=\"0 0 24 24\"\n",
              "     width=\"24px\">\n",
              "    <g>\n",
              "        <path d=\"M19 3H5c-1.1 0-2 .9-2 2v14c0 1.1.9 2 2 2h14c1.1 0 2-.9 2-2V5c0-1.1-.9-2-2-2zM9 17H7v-7h2v7zm4 0h-2V7h2v10zm4 0h-2v-4h2v4z\"/>\n",
              "    </g>\n",
              "</svg>\n",
              "  </button>\n",
              "\n",
              "<style>\n",
              "  .colab-df-quickchart {\n",
              "      --bg-color: #E8F0FE;\n",
              "      --fill-color: #1967D2;\n",
              "      --hover-bg-color: #E2EBFA;\n",
              "      --hover-fill-color: #174EA6;\n",
              "      --disabled-fill-color: #AAA;\n",
              "      --disabled-bg-color: #DDD;\n",
              "  }\n",
              "\n",
              "  [theme=dark] .colab-df-quickchart {\n",
              "      --bg-color: #3B4455;\n",
              "      --fill-color: #D2E3FC;\n",
              "      --hover-bg-color: #434B5C;\n",
              "      --hover-fill-color: #FFFFFF;\n",
              "      --disabled-bg-color: #3B4455;\n",
              "      --disabled-fill-color: #666;\n",
              "  }\n",
              "\n",
              "  .colab-df-quickchart {\n",
              "    background-color: var(--bg-color);\n",
              "    border: none;\n",
              "    border-radius: 50%;\n",
              "    cursor: pointer;\n",
              "    display: none;\n",
              "    fill: var(--fill-color);\n",
              "    height: 32px;\n",
              "    padding: 0;\n",
              "    width: 32px;\n",
              "  }\n",
              "\n",
              "  .colab-df-quickchart:hover {\n",
              "    background-color: var(--hover-bg-color);\n",
              "    box-shadow: 0 1px 2px rgba(60, 64, 67, 0.3), 0 1px 3px 1px rgba(60, 64, 67, 0.15);\n",
              "    fill: var(--button-hover-fill-color);\n",
              "  }\n",
              "\n",
              "  .colab-df-quickchart-complete:disabled,\n",
              "  .colab-df-quickchart-complete:disabled:hover {\n",
              "    background-color: var(--disabled-bg-color);\n",
              "    fill: var(--disabled-fill-color);\n",
              "    box-shadow: none;\n",
              "  }\n",
              "\n",
              "  .colab-df-spinner {\n",
              "    border: 2px solid var(--fill-color);\n",
              "    border-color: transparent;\n",
              "    border-bottom-color: var(--fill-color);\n",
              "    animation:\n",
              "      spin 1s steps(1) infinite;\n",
              "  }\n",
              "\n",
              "  @keyframes spin {\n",
              "    0% {\n",
              "      border-color: transparent;\n",
              "      border-bottom-color: var(--fill-color);\n",
              "      border-left-color: var(--fill-color);\n",
              "    }\n",
              "    20% {\n",
              "      border-color: transparent;\n",
              "      border-left-color: var(--fill-color);\n",
              "      border-top-color: var(--fill-color);\n",
              "    }\n",
              "    30% {\n",
              "      border-color: transparent;\n",
              "      border-left-color: var(--fill-color);\n",
              "      border-top-color: var(--fill-color);\n",
              "      border-right-color: var(--fill-color);\n",
              "    }\n",
              "    40% {\n",
              "      border-color: transparent;\n",
              "      border-right-color: var(--fill-color);\n",
              "      border-top-color: var(--fill-color);\n",
              "    }\n",
              "    60% {\n",
              "      border-color: transparent;\n",
              "      border-right-color: var(--fill-color);\n",
              "    }\n",
              "    80% {\n",
              "      border-color: transparent;\n",
              "      border-right-color: var(--fill-color);\n",
              "      border-bottom-color: var(--fill-color);\n",
              "    }\n",
              "    90% {\n",
              "      border-color: transparent;\n",
              "      border-bottom-color: var(--fill-color);\n",
              "    }\n",
              "  }\n",
              "</style>\n",
              "\n",
              "  <script>\n",
              "    async function quickchart(key) {\n",
              "      const quickchartButtonEl =\n",
              "        document.querySelector('#' + key + ' button');\n",
              "      quickchartButtonEl.disabled = true;  // To prevent multiple clicks.\n",
              "      quickchartButtonEl.classList.add('colab-df-spinner');\n",
              "      try {\n",
              "        const charts = await google.colab.kernel.invokeFunction(\n",
              "            'suggestCharts', [key], {});\n",
              "      } catch (error) {\n",
              "        console.error('Error during call to suggestCharts:', error);\n",
              "      }\n",
              "      quickchartButtonEl.classList.remove('colab-df-spinner');\n",
              "      quickchartButtonEl.classList.add('colab-df-quickchart-complete');\n",
              "    }\n",
              "    (() => {\n",
              "      let quickchartButtonEl =\n",
              "        document.querySelector('#df-bbf162fa-ec8b-47ad-98f8-ed9c9ffca89d button');\n",
              "      quickchartButtonEl.style.display =\n",
              "        google.colab.kernel.accessAllowed ? 'block' : 'none';\n",
              "    })();\n",
              "  </script>\n",
              "</div>\n",
              "    </div>\n",
              "  </div>\n"
            ],
            "application/vnd.google.colaboratory.intrinsic+json": {
              "type": "dataframe",
              "variable_name": "df",
              "summary": "{\n  \"name\": \"df\",\n  \"rows\": 16353,\n  \"fields\": [\n    {\n      \"column\": \"question\",\n      \"properties\": {\n        \"dtype\": \"string\",\n        \"num_unique_values\": 14976,\n        \"samples\": [\n          \"How many people are affected by prion disease ?\",\n          \"What are the treatments for Crouzon syndrome ?\",\n          \"How many people are affected by Ehlers-Danlos syndrome ?\"\n        ],\n        \"semantic_type\": \"\",\n        \"description\": \"\"\n      }\n    },\n    {\n      \"column\": \"answer\",\n      \"properties\": {\n        \"dtype\": \"string\",\n        \"num_unique_values\": 15811,\n        \"samples\": [\n          \"Mutations in the CDC73 gene (also known as the HRPT2 gene) cause hyperparathyroidism-jaw tumor syndrome. The CDC73 gene provides instructions for making a protein called parafibromin. This protein is found throughout the body and is likely involved in gene transcription, which is the first step in protein production. Parafibromin is also thought to play a role in cell growth and division (proliferation), either promoting or inhibiting cell proliferation depending on signals within the cell.  CDC73 gene mutations cause hyperparathyroidism-jaw tumor syndrome by reducing the amount of functional parafibromin that is produced. Most of these mutations result in a parafibromin protein that is abnormally short and nonfunctional. Without functional parafibromin, cell proliferation is not properly regulated. Uncontrolled cell division can lead to the formation of tumors. It is unknown why only certain tissues seem to be affected by changes in parafibromin.  Some people with hyperparathyroidism-jaw tumor syndrome do not have identified mutations in the CDC73 gene. The cause of the condition in these individuals is unknown.\",\n          \"Scientists continue to look at new ways to prevent, treat, and diagnose prostate cancer. Research has already led to a number of advances in these areas. Dietary Research Several studies are under way to explore the causes of prostate cancer. Some researchers think that diet may affect a man's chances of developing prostate cancer. For example, some studies show that prostate cancer is more common in populations that consume a high-fat diet, particularly animal fat, and in populations with diets that lack certain nutrients. Research on Testosterone Some research suggests that high levels of testosterone may increase a man's risk of prostate cancer. The difference in prostate cancer risk among racial groups could be related to high testosterone levels, but it also could result from diet or other lifestyle factors. Genetic Research Researchers are studying changes in genes that may increase the risk for developing prostate cancer. Some studies are looking at the genes of men who were diagnosed with prostate cancer at a relatively young age, such as less than 55 years old, and the genes of families who have several members with the disease. Other studies are trying to identify which genes, or arrangements of genes, are most likely to lead to prostate cancer. Much more work is needed, however, before scientists can say exactly how genetic changes relate to prostate cancer. Prevention Research Several studies have explored ways to prevent prostate cancer. In October 2008, initial results of a study on the use of the dietary supplements vitamin E and selenium found that they did not provide any benefit in reducing the number of new cases of the disease. A few studies suggest that a diet that regularly includes tomato-based foods may help protect men from prostate cancer, but there are no studies that conclusively prove this hypothesis. According to results of a study that was re-analyzed in 2013, men who took finasteride, a drug that affects male hormone levels, reduced their chances of getting prostate cancer by nearly 30 percent compared to men who took a placebo. Unlike earlier findings from this study, this new analysis showed no increased risk of late stage disease due to use of finasteride. Stopping Prostate Cancer from Returning Scientists are also looking at ways to stop prostate cancer from returning in men who have already been treated for the disease. These approaches use drugs such as finasteride, flutamide, nilutamide, and LH-RH agonists that manipulate hormone levels. In 2010, the FDA approved a therapeutic cancer vaccine, Provenge, for use in some men with metastatic prostate cancer. Provenge may provide a 4-month improvement in overall survival compared with a placebo vaccine. Other similar vaccine therapies are in development. Research on New Blood Tests Some researchers are working to develop new blood tests to detect the antibodies that the immune system produces to fight prostate cancer. When used along with PSA testing, the antibody tests may provide more accurate results about whether or not a man has prostate cancer. Researching New Approaches to Treatment Through research, doctors are trying to find new, more effective ways to treat prostate cancer. Cryosurgery -- destroying cancer by freezing it -- is under study as an alternative to surgery and radiation therapy. To avoid damaging healthy tissue, the doctor places an instrument known as a cryoprobe in direct contact with the tumor to freeze it. Doctors are studying new ways of using radiation therapy and hormonal therapy, too. Studies have shown that hormonal therapy given after radiation therapy can help certain men whose cancer has spread to nearby tissues. Scientists are also testing the effectiveness of chemotherapy and biological therapy for men whose cancer does not respond, or stops responding, to hormonal therapy. They are also exploring new ways to schedule and combine various treatments. For example, they are studying hormonal therapy to find out if using it to shrink the tumor before a man has surgery or radiation might be a useful approach. For men with early stage prostate cancer, researchers are also comparing treatment with watchful waiting. The results of this work will help doctors know whether to treat early stage prostate cancer immediately or only later on, if symptoms occur or worsen.\",\n          \"Sleep apnea is a common disorder that causes your breathing to stop or get very shallow. Breathing pauses can last from a few seconds to minutes. They may occur 30 times or more an hour.    The most common type is obstructive sleep apnea. It causes your airway to collapse or become blocked during sleep. Normal breathing starts again with a snort or choking sound. People with sleep apnea often snore loudly. However, not everyone who snores has sleep apnea.    You are more at risk for sleep apnea if you are overweight, male, or have a family history or small airways. Children with enlarged tonsils may also get it.    Doctors diagnose sleep apnea based on medical and family histories, a physical exam, and sleep study results.    When your sleep is interrupted throughout the night, you can be drowsy during the day. People with sleep apnea are at higher risk for car crashes, work-related accidents, and other medical problems. If you have it, it is important to get treatment. Lifestyle changes, mouthpieces, surgery, and breathing devices can treat sleep apnea in many people.    NIH: National Heart, Lung, and Blood Institute\"\n        ],\n        \"semantic_type\": \"\",\n        \"description\": \"\"\n      }\n    },\n    {\n      \"column\": \"preprocessed_question\",\n      \"properties\": {\n        \"dtype\": \"string\",\n        \"num_unique_values\": 13861,\n        \"samples\": [\n          \"what be be corticosteroid bind globulin deficiency\",\n          \"what be the treatment for rh incompatibility\",\n          \"what be the symptom of leprechaunism\"\n        ],\n        \"semantic_type\": \"\",\n        \"description\": \"\"\n      }\n    },\n    {\n      \"column\": \"preprocessed_answer\",\n      \"properties\": {\n        \"dtype\": \"string\",\n        \"num_unique_values\": 15766,\n        \"samples\": [\n          \"hereditary leiomyomatosis and renal cell cancer hlrcc be a disorder in which affect individual tend to develop benign tumor contain smooth muscle tissue leiomyoma in the skin and in female the uterus this condition also increase the risk of kidney cancer in this disorder growth on the skin cutaneous leiomyoma typically develop in the third decade of life most of these growth arise from the tiny muscle around the hair follicle that cause goosebump they appear as bump or nodule on the trunk arm leg and occasionally on the face cutaneous leiomyoma may be the same color as the surround skin or they may be dark some affected individual have no cutaneous leiomyoma or only a few but the growth tend to increase in size and number over time cutaneous leiomyoma be often more sensitive than the surround skin to cold or light touch and may be painful most woman with hlrcc also develop uterine leiomyoma fibroid while uterine fibroid be very common in the general population woman with hlrcc tend to have numerous large fibroid that appear early than in the general population approximately percent to percent of people with hlrcc develop a type of kidney cancer call renal cell cancer the sign and symptom of renal cell cancer may include low back pain blood in the urine or a mass in the kidney that can be feel upon physical examination some people with renal cell cancer have no symptom until the disease be advanced the average age at which people with hlrcc be diagnose with kidney cancer be in their forty this disorder especially if it appear in individual or family without renal cell cancer be also sometimes call multiple cutaneous leiomyomatosis mcl or multiple cutaneous and uterine leiomyomatosis mcul\",\n          \"factor x deficiency occur in approximately per million individual worldwide\",\n          \"what be the sign and symptom of saccharopinuria the human phenotype ontology provide the follow list of sign and symptom for saccharopinuria if the information be available the table below include how often the symptom be see in people with this condition you can use the medlineplus medical dictionary to look up the definition for these medical term sign and symptom approximate number of patient when available autosomal recessive inheritance eeg abnormality histidinuria hyperlysinuria intellectual disability short stature spastic diplegia the human phenotype ontology hpo have collect information on how often a sign or symptom occur in a condition much of this information come from orphanet a european rare disease database the frequency of a sign or symptom be usually list as a rough estimate of the percentage of patient who have that feature the frequency may also be list as a fraction the first number of the fraction be how many people have the symptom and the second number be the total number of people who be examine in one study for example a frequency of mean that in a study of people all patient be find to have that symptom because these frequency be base on a specific study the fraction may be different if another group of patient be examine sometimes no information on frequency be available in these case the sign or symptom may be rare or common\"\n        ],\n        \"semantic_type\": \"\",\n        \"description\": \"\"\n      }\n    }\n  ]\n}"
            }
          },
          "metadata": {},
          "execution_count": 2
        }
      ]
    },
    {
      "cell_type": "code",
      "source": [
        "!pip install fasttext"
      ],
      "metadata": {
        "colab": {
          "base_uri": "https://localhost:8080/"
        },
        "id": "hBKOg7Vlu01f",
        "outputId": "d3d16d93-9476-4dae-f4ef-b77df1f91a5b"
      },
      "execution_count": null,
      "outputs": [
        {
          "output_type": "stream",
          "name": "stdout",
          "text": [
            "Requirement already satisfied: fasttext in /usr/local/lib/python3.10/dist-packages (0.9.2)\n",
            "Requirement already satisfied: pybind11>=2.2 in /usr/local/lib/python3.10/dist-packages (from fasttext) (2.12.0)\n",
            "Requirement already satisfied: setuptools>=0.7.0 in /usr/local/lib/python3.10/dist-packages (from fasttext) (67.7.2)\n",
            "Requirement already satisfied: numpy in /usr/local/lib/python3.10/dist-packages (from fasttext) (1.25.2)\n"
          ]
        }
      ]
    },
    {
      "cell_type": "code",
      "source": [
        "import fasttext\n",
        "model = fasttext.load_model(\"/content/drive/MyDrive/Supportiv/fasttext_model.bin\")"
      ],
      "metadata": {
        "colab": {
          "base_uri": "https://localhost:8080/"
        },
        "id": "vIoNwBcEuKNx",
        "outputId": "c803074b-6fe0-45f9-9b6c-97fa245eaedd"
      },
      "execution_count": null,
      "outputs": [
        {
          "output_type": "stream",
          "name": "stderr",
          "text": [
            "Warning : `load_model` does not return WordVectorModel or SupervisedModel any more, but a `FastText` object which is very similar.\n"
          ]
        }
      ]
    },
    {
      "cell_type": "code",
      "source": [
        "vector = [model.get_sentence_vector(text) for text in df['preprocessed_question']]"
      ],
      "metadata": {
        "id": "uEOISq9RDBDI"
      },
      "execution_count": null,
      "outputs": []
    },
    {
      "cell_type": "code",
      "source": [
        "vector = np.stack(vector)"
      ],
      "metadata": {
        "id": "JKaiDW6tE5xm"
      },
      "execution_count": null,
      "outputs": []
    },
    {
      "cell_type": "code",
      "source": [
        "from sklearn.metrics.pairwise import cosine_similarity\n",
        "cosine_similarity(vector[0].reshape(1,-1),vector[8].reshape(1,-1))"
      ],
      "metadata": {
        "colab": {
          "base_uri": "https://localhost:8080/"
        },
        "id": "Vy0LvCu0H8EY",
        "outputId": "12149a63-0f24-45c9-a8d2-0c363cf37e7d"
      },
      "execution_count": null,
      "outputs": [
        {
          "output_type": "execute_result",
          "data": {
            "text/plain": [
              "array([[0.7702592]], dtype=float32)"
            ]
          },
          "metadata": {},
          "execution_count": 7
        }
      ]
    },
    {
      "cell_type": "code",
      "source": [
        "# !python -m spacy download en_core_web_lg\n",
        "import spacy\n",
        "import re"
      ],
      "metadata": {
        "id": "MhVkZh0dcrnb"
      },
      "execution_count": null,
      "outputs": []
    },
    {
      "cell_type": "code",
      "source": [
        "# main function for answering queries\n",
        "nlp = spacy.load(\"en_core_web_lg\")\n",
        "def answering(text):\n",
        "  if len(text) == 0:\n",
        "    return \"You typed nothing\"\n",
        "  # do preprocessing\n",
        "  text = text.lower()                                   # lower casing\n",
        "  text = re.sub(r\"<.*?>\",\"\",text)                       # remove html tags\n",
        "  text = re.sub(r'https?://\\S+|www\\.\\S+|\\d+',\"\",text)   # removing urls and numbers\n",
        "  text = re.sub(r\"\\s+\",\" \",text)                        #remove whitespaces\n",
        "\n",
        "  doc = nlp(text)\n",
        "  filtered_tokens = []\n",
        "  for token in doc:\n",
        "      if token.is_punct:\n",
        "          continue\n",
        "      filtered_tokens.append(token.lemma_)\n",
        "  text = \" \".join(filtered_tokens)\n",
        "\n",
        "  # get_sentence_vector\n",
        "  query_vector = model.get_sentence_vector(text).reshape(1,-1)\n",
        "\n",
        "  # iterate over vector_question to find cosine_similarity\n",
        "  max_val = 0\n",
        "  idx = 0\n",
        "  for vec in enumerate(vector):\n",
        "    sim = cosine_similarity(vec[1].reshape(1,-1),query_vector)[0][0]\n",
        "    if(sim > max_val):\n",
        "    # store maximum value from it with index\n",
        "      max_val = sim\n",
        "      idx = vec[0]\n",
        "\n",
        "  # print answer of that index\n",
        "  print(df['preprocessed_answer'][idx])"
      ],
      "metadata": {
        "id": "0Im19afpzmGT"
      },
      "execution_count": null,
      "outputs": []
    },
    {
      "cell_type": "code",
      "source": [
        "while True:\n",
        "  user_input = input()\n",
        "  if user_input == \"Bye!\":\n",
        "    print(\"Hope you found your answer\")\n",
        "    break;\n",
        "  else:\n",
        "    answering(user_input)"
      ],
      "metadata": {
        "colab": {
          "base_uri": "https://localhost:8080/"
        },
        "id": "axu16kRVjDDY",
        "outputId": "2bf06150-e6ee-479f-8f7c-505ab65692af"
      },
      "execution_count": null,
      "outputs": [
        {
          "output_type": "stream",
          "name": "stdout",
          "text": [
            "Who is at risk for Glaucoma?\n",
            "anyone can develop glaucoma some people be at high risk than other they include african americans over age everyone over age especially hispanic latinos people with a family history of glaucoma african americans over age everyone over age especially hispanic latinos people with a family history of glaucoma see this graphic for a quick overview of glaucoma include how many people it affect who s at risk what to do if you have it and how to learn more\n",
            "Symptoms of paget\n",
            "what be the sign and symptom of paget disease of bone the human phenotype ontology provide the follow list of sign and symptom for paget disease of bone if the information be available the table below include how often the symptom be see in people with this condition you can use the medlineplus medical dictionary to look up the definition for these medical term sign and symptom approximate number of patient when available bilateral conductive hearing impairment abnormality of pelvic girdle bone morphology autosomal dominant inheritance bone pain brain stem compression cranial nerve paralysis elevate alkaline phosphatase fracture of the long bone heterogeneous hydroxyprolinuria increase susceptibility to fracture long tract sign osteolysis paraparesis tetraparesis vertebral compression fracture the human phenotype ontology hpo have collect information on how often a sign or symptom occur in a condition much of this information come from orphanet a european rare disease database the frequency of a sign or symptom be usually list as a rough estimate of the percentage of patient who have that feature the frequency may also be list as a fraction the first number of the fraction be how many people have the symptom and the second number be the total number of people who be examine in one study for example a frequency of mean that in a study of people all patient be find to have that symptom because these frequency be base on a specific study the fraction may be different if another group of patient be examine sometimes no information on frequency be available in these case the sign or symptom may be rare or common\n",
            "what is alzheimer's disease\n",
            "alzheimer disease be a brain disease that slowly destroy memory and thinking skill and eventually the ability to carry out the simple task it begin slowly and get bad over time currently it have no cure a common cause of dementia alzheimer disease be the most common cause of dementia among old people dementia be a loss of thinking remember and reasoning skill that interfere with a person daily life and activity dementia range in severity from the mild stage when it be just begin to affect a person function to the severe stage when the person must depend completely on other for basic care estimate vary but expert suggest that more than million americans may have alzheimer 's disease alzheimer be currently rank as the sixth lead cause of death in the united states but recent estimate indicate that the disorder may rank third just behind heart disease and cancer as a cause of death for old people risk increase with age in most people with alzheimer symptom first appear in their mid s and the risk of develop the disease increase with age while young people in their s s and s may get alzheimer 's disease it be much less common it be important to note that alzheimer 's disease be not a normal part of aging the course of alzheimer diseasewhich symptom appear and how quickly change occurvarie from person to person the time from diagnosis to death vary too it can be as little as or year if the person be over year old when diagnose or as long as year or more if the person be young memory problem one of the first sign memory problem be typically one of the first sign of alzheimer disease though initial symptom may vary from person to person a decline in other aspect of thinking such as find the right word vision spatial issue and impaired reasoning or judgment may also signal the very early stage of alzheimer disease people with alzheimer have trouble do everyday thing like drive a car cook a meal or pay bill they may ask the same question over and over get lose easily lose thing or put they in odd place and find even simple thing confuse some people become worried angry or violent other reason for memory issue not all people with memory problem have alzheimer disease mild forgetfulness can be a normal part of aging some people may notice that it take long to learn new thing remember certain word or find their glass that s different from a serious memory problem which make it hard to do everyday thing sometimes memory problem be relate to health issue that be treatable for example medication side effect vitamin b deficiency head injury or liver or kidney disorder can lead to memory loss or possibly dementia emotional problem such as stress anxiety or depression can also make a person more forgetful and may be mistake for dementia read more about cause of memory loss and how to keep your memory sharp mild cognitive impairment some old people with memory or other thinking problem have a condition call mild cognitive impairment or mci mci can be an early sign of alzheimer but not everyone with mci will develop alzheimer disease people with mci have more memory problem than other people their age but they can still take care of themselves and do their normal activity sign of mci may include lose thing often forget to go to event and appointment have more trouble come up with word than other people the same age lose thing often forget to go to event and appointment have more trouble come up with word than other people the same age if you or someone in your family think your forgetfulness be get in the way of your normal routine its time to see your doctor see the doctor when you first start have memory problem can help you find out what s cause your forgetfulness learn more about mild cognitive impairment mci what happen to the brain in alzheimer alzheimer 's disease be name after dr alois alzheimer a german doctor in dr alzheimer notice change in the brain tissue of a woman who have die of an unusual mental illness after she die he examine her brain and find many abnormal clump now call amyloid plaque and tangled bundle of fiber now call neurofibrillary or tau tangle plaque and tangle in the brain be two of the main feature of alzheimer 's disease another be the loss of connection between nerve cell neuron in the brain neuron send message between different part of the brain and from the brain to muscle and organ in the body it seem likely that damage to the brain start year or more before memory or other thinking problem become obvious during the early stage of alzheimer people be free of symptom but harmful change be take place in the brain the damage at first appear to take place in cell of the hippocampus the part of the brain essential in form memory abnormal protein deposit form plaque and tangle in the brain once healthy nerve cell stop function lose connection with each other and die as more nerve cell die other part of the brain begin to shrink by the final stage of alzheimer damage be widespread and brain tissue have shrink significantly get more detail about alzheimer disease\n",
            "Bye!\n",
            "Hope you found your answer\n"
          ]
        }
      ]
    }
  ]
}